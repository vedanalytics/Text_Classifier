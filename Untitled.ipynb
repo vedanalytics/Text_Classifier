{
 "cells": [
  {
   "cell_type": "code",
   "execution_count": 1,
   "metadata": {
    "collapsed": false
   },
   "outputs": [
    {
     "name": "stderr",
     "output_type": "stream",
     "text": [
      "Using Theano backend.\n",
      "Using gpu device 0: Tesla K80 (CNMeM is disabled, cuDNN 5103)\n",
      "/home/ubuntu/anaconda2/lib/python2.7/site-packages/theano/sandbox/cuda/__init__.py:600: UserWarning: Your cuDNN version is more recent than the one Theano officially supports. If you see any problems, try updating Theano or downgrading cuDNN to version 5.\n",
      "  warnings.warn(warn)\n"
     ]
    }
   ],
   "source": [
    "import pandas as pd\n",
    "from keras.models import Model\n",
    "from keras.layers import Dense, Input, Dropout, MaxPooling1D, Conv1D, MaxPooling1D\n",
    "from keras.layers import LSTM, Lambda, Bidirectional, BatchNormalization\n",
    "from keras.layers import TimeDistributed\n",
    "from keras.optimizers import Adam\n",
    "from keras.preprocessing import sequence\n",
    "import keras.backend as K\n",
    "import numpy as np\n",
    "import re\n",
    "import keras.callbacks\n",
    "import sys\n",
    "import os"
   ]
  },
  {
   "cell_type": "code",
   "execution_count": 2,
   "metadata": {
    "collapsed": true
   },
   "outputs": [],
   "source": [
    "def binarize(x, sz=71):\n",
    "    return tf.to_float(tf.one_hot(x, sz, on_value=1, off_value=0, axis=-1))"
   ]
  },
  {
   "cell_type": "code",
   "execution_count": 3,
   "metadata": {
    "collapsed": true
   },
   "outputs": [],
   "source": [
    "def binarize_outshape(in_shape):\n",
    "    return in_shape[0], in_shape[1], 71"
   ]
  },
  {
   "cell_type": "code",
   "execution_count": 4,
   "metadata": {
    "collapsed": true
   },
   "outputs": [],
   "source": [
    "def striphtml(s):\n",
    "    p = re.compile(r'<.*?>')\n",
    "    return p.sub('', s)"
   ]
  },
  {
   "cell_type": "code",
   "execution_count": 166,
   "metadata": {
    "collapsed": false
   },
   "outputs": [],
   "source": [
    "train_features = pd.read_table('xtrain_obfuscated.txt',header=None,delim_whitespace=True)"
   ]
  },
  {
   "cell_type": "code",
   "execution_count": 216,
   "metadata": {
    "collapsed": false
   },
   "outputs": [
    {
     "name": "stdout",
     "output_type": "stream",
     "text": [
      "0        satwamuluhqgulamlrmvezuhqvkrpmletwulcitwskuhle...\n",
      "1        twmkiwpmqvtwleuhsaiwsktwmvlelekramuhqvkruhtwsk...\n",
      "2        vidfpmskuhvilepmuluhtwtvuhulsovienamqvuhskiwmv...\n",
      "3        raskleenkrlruhtwulenleengztwqvuhenuhsatvuhsktw...\n",
      "4        dfenqvuhtwamqvuhqgtwiwtvenuluhqvijletwamulenxe...\n",
      "5        qvsotwamuhulenamdfuhezpmlexeuhqgiwiwmvdfuhtwam...\n",
      "6        iwmvenqvuhpmuluhsaendfuhtwamuluhqvmvuhqvmvamul...\n",
      "7        twqvpmiwypuhpmuluhsktweztwtwqvuhqgskpmpmiwtvuh...\n",
      "8        iguhqgqvulqvmvlrpmiwpmvitwleamgzuhtwamuluhamul...\n",
      "9        vimvenlrenuhulkrpmuhtwezenypuhtwdfuhqgtwypmvle...\n",
      "10       qvmvamuhvipmuhletwulqvenezuhqvmvamuhsktwdfpmiw...\n",
      "11       pksaenskbhpmuluhezenuhiguhqvenuhucleenskuhtwam...\n",
      "12       iwiwenuhulqvpmiwuhskvienuhqgtwlekrqventwiwgzuh...\n",
      "13       qvendfuhamypmvamdfuhezpmguuhletwmkpmuhlrvimvsa...\n",
      "14       qglrmvletvuhlepmuhletwvipmpmamypqvuhenuhvimvuh...\n",
      "15       raxexepmuhleenxeuhpmqvuhqgulmvuhletwxetwlegzuh...\n",
      "16       vgraulmvuhxepmuhsktwmvxeqvmvulenqvuhtwtvuhsaen...\n",
      "17       raulpmpmxeuhqvmvamuhamulmvdfuhsaiwulvitwlruhle...\n",
      "18       letwmkpmuhtwvipmlruhskenamuhvipmlrlrendfuhsktw...\n",
      "19       twezenyptwtvuhqgulenpmleamuluhsktwezeniwxevimv...\n",
      "20       skvienuhsktwamqvkrleypuhqgxexepmuhsktwucentwvi...\n",
      "21       iwiwenuhulenuhsktwgzgzpmulqvuhqvmvuhqgletwgzkr...\n",
      "22       raucpmpmiwuhskpmpmlruhenuhucpmpmuluhtwamuhskvi...\n",
      "23       skvienuhqgsaleuluhtwamqvuhpkgztwtwiwqvuhpmuluh...\n",
      "24       qgqvkruhskvimvamtwtvuhulxetwiwuhsaenskletwulqv...\n",
      "25       saengzuhpmuluhsktwmvleuluhvitwleskiwmvamypuhtw...\n",
      "26       twskenezuhskvienuhulleentwamuhletwamuhulenuhsk...\n",
      "27       rasktwiwentwamuhtwmkenamuhpmuluhulpmviuheztwtw...\n",
      "28       skiwkrpmypuhiguhqgtwypmvdfguuhraqvletwkrqvlekr...\n",
      "29       vipmgzkruhucypenululenuhvienuhvitwtwtvuhskenam...\n",
      "                               ...                        \n",
      "32483    twamulvtqgqvulmvezmviwuhlrvimvulenmvmktwskvikr...\n",
      "32484    qvmvamuhvimvuhskentvuhskvienuhqvgzentwiwuhqvmv...\n",
      "32485    qgtwqvpmgzlekrgzuhtwamuluhlepmxeuhezmvamuhamul...\n",
      "32486    lepmxeuhqvucentwiwuhtwamuluhsktwgzgzpmulqvuhpm...\n",
      "32487    vgohqvskvikrpmgzuhsaulxemvuyuhohamypkrezuhdfpm...\n",
      "32488    dfpmskenamqvuhtwamguuhrapmfquhohqvqvtwiwtwqvkr...\n",
      "32489    sktwtvuhpmulvimvuhultwprdsuhqgtwypmvpmmkuhdfpm...\n",
      "32490    iguhsaenskuhulqvtwlrvipmiwuhtwamuluhqvmvamuluh...\n",
      "32491    raxeiwtwqvezmvamuhtwucmviwuhskvienuhqgsatwucuh...\n",
      "32492    qvvipmqventwleuhsavienezuhlepmxeuhamypmvamdfuh...\n",
      "32493    saleskuhtwamuluhletwmkpmuhiwiwpmleuhkrpmsauhvi...\n",
      "32494    iguhskvienuhqgskmvskuhtvenamskuhvimvenulgzenee...\n",
      "32495    amypentwuhsktwonmvtwqvuhqvsapmtvuhtwamguuhraul...\n",
      "32496    iwiwenuhskviskuhrasaskentwleuhskvienuhulamlrmv...\n",
      "32497    skpmpmlruhsaskpmpmezuhenuhamulmvdfuhiwmvenqvuh...\n",
      "32498    enuhskvienuhletwulamlrkreniwuhxepmuhlepmezeniw...\n",
      "32499    ulsovipmskuhulkrtvsouhpktwululpmiwleenameeuhsk...\n",
      "32500    sktwlrvipmiwpmlegzuhenuhlrvimvlekrskuhqvendfuh...\n",
      "32501    qgulypenxeuhvimvuhqgqvmvuhqgsktwmkpmiwuhtwtvuh...\n",
      "32502    qvendfuhiguhravipmmvqvqvengzuhamulmvdfuhsktwul...\n",
      "32503    qgulkrypuhsaiwamlrkrpmleuhskvienuhlrmvtvuhtwle...\n",
      "32504    rarararaezpmpmlesktwtvuhsaezuhsktwletwulvitwuh...\n",
      "32505    sktwmvlelepmdfuhletwamypvikrleeeuhsaleletwcguh...\n",
      "32506    qgsaenskletwulqvtwsauhpmuluhucypentvuhlrvimvpm...\n",
      "32507    twamuluhqvmvuhqvmvamguuhoatwletwamuluhsapmamsk...\n",
      "32508    gzpmamqvmvdfuhtwamuluhvitwamdfuhvipmonmvlepmam...\n",
      "32509    qvkrpmmvyppmletwxeuhiwenletwmktwqvuhvidfpmskuh...\n",
      "32510    qvmvamuhleentwtvuhpmuluhskvienuhqgtwxemviwuhqv...\n",
      "32511    ralrvimvamypenpmlegzgzenuhqvendfuhgztwulqvuhtw...\n",
      "32512    twiwtvenvipmmvulqvtwkrszuhqvmvamuhsktwmktwmvam...\n",
      "Name: 0, dtype: object\n"
     ]
    }
   ],
   "source": [
    "print(str(train_features[0]))"
   ]
  },
  {
   "cell_type": "code",
   "execution_count": 146,
   "metadata": {
    "collapsed": true
   },
   "outputs": [],
   "source": [
    "max_seq_len = 460"
   ]
  },
  {
   "cell_type": "code",
   "execution_count": 119,
   "metadata": {
    "collapsed": false
   },
   "outputs": [],
   "source": [
    "def get_unique_chars(df):\n",
    "    charset={''}\n",
    "    for item in df:\n",
    "        charset.add(''.join(set(item)))\n",
    "    charset = set(''.join(charset))\n",
    "    return charset"
   ]
  },
  {
   "cell_type": "code",
   "execution_count": 158,
   "metadata": {
    "collapsed": false
   },
   "outputs": [],
   "source": [
    "\n",
    "charset = list(get_unique_chars(train_features[0]))"
   ]
  },
  {
   "cell_type": "code",
   "execution_count": 209,
   "metadata": {
    "collapsed": false
   },
   "outputs": [],
   "source": [
    "def text_to_numeric(text,char_set):\n",
    "    numeric = []\n",
    "    i=0\n",
    "    for char in text:\n",
    "        numeric.append(str(char_set.index(char)+1))\n",
    "    return numeric"
   ]
  },
  {
   "cell_type": "code",
   "execution_count": 213,
   "metadata": {
    "collapsed": false
   },
   "outputs": [],
   "source": [
    "iu = 0\n",
    "train_numeric = []\n",
    "for item in train_features[0]:\n",
    "    train_numeric.append(text_to_numeric(item,charset))"
   ]
  },
  {
   "cell_type": "code",
   "execution_count": 223,
   "metadata": {
    "collapsed": false
   },
   "outputs": [
    {
     "name": "stdout",
     "output_type": "stream",
     "text": [
      "460\n"
     ]
    }
   ],
   "source": [
    "print(len(padded_train_features[100]))"
   ]
  },
  {
   "cell_type": "code",
   "execution_count": 217,
   "metadata": {
    "collapsed": true
   },
   "outputs": [],
   "source": []
  },
  {
   "cell_type": "code",
   "execution_count": 218,
   "metadata": {
    "collapsed": false
   },
   "outputs": [],
   "source": [
    "padded_train_features = sequence.pad_sequences(train_numeric, maxlen=max_seq_len, dtype='int32',\n",
    "    padding='post', truncating='post', value=0.)"
   ]
  },
  {
   "cell_type": "code",
   "execution_count": null,
   "metadata": {
    "collapsed": true
   },
   "outputs": [],
   "source": []
  }
 ],
 "metadata": {
  "anaconda-cloud": {},
  "kernelspec": {
   "display_name": "Python [conda root]",
   "language": "python",
   "name": "conda-root-py"
  },
  "language_info": {
   "codemirror_mode": {
    "name": "ipython",
    "version": 2
   },
   "file_extension": ".py",
   "mimetype": "text/x-python",
   "name": "python",
   "nbconvert_exporter": "python",
   "pygments_lexer": "ipython2",
   "version": "2.7.12"
  }
 },
 "nbformat": 4,
 "nbformat_minor": 1
}
